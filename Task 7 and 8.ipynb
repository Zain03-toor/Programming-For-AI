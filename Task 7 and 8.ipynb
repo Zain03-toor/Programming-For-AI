{
 "cells": [
  {
   "cell_type": "code",
   "execution_count": null,
   "metadata": {},
   "outputs": [],
   "source": [
    "from flask import Flask, render_template\n",
    "import requests\n",
    "\n",
    "app = Flask(__name__)\n",
    "\n",
    "NASA_API_KEY = \"16OdOLAp67XlbxlY0TgtbZDorieiXRyXAf2pGWjI\"\n",
    "APOD_URL = \"https://api.nasa.gov/planetary/apod\"\n",
    "\n",
    "@app.route(\"/\", methods=[\"GET\"])\n",
    "def index():\n",
    "    params = {\"api_key\": NASA_API_KEY}\n",
    "    response = requests.get(APOD_URL, params=params)\n",
    "\n",
    "    if response.status_code == 200:\n",
    "        apod_data = response.json()\n",
    "        print(\"API Response:\", apod_data)  \n",
    "\n",
    "        if \"url\" in apod_data and apod_data[\"url\"].startswith(\"http://\"):\n",
    "            apod_data[\"url\"] = apod_data[\"url\"].replace(\"http://\", \"https://\")\n",
    "\n",
    "        return render_template(\"index.html\", apod=apod_data, error=None)\n",
    "\n",
    "    else:\n",
    "        error_message = f\"Error fetching data: {response.status_code} - {response.text}\"\n",
    "        print(error_message)  \n",
    "        return render_template(\"index.html\", apod=None, error=error_message)\n",
    "\n",
    "if __name__ == \"__main__\":\n",
    "    app.run(debug=True)  \n"
   ]
  }
 ],
 "metadata": {
  "language_info": {
   "name": "python"
  }
 },
 "nbformat": 4,
 "nbformat_minor": 2
}
